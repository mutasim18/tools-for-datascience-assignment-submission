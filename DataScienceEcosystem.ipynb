{
 "cells": [
  {
   "cell_type": "markdown",
   "id": "10d6aaa3",
   "metadata": {},
   "source": [
    "# Data Science Tools and Ecosystem\n"
   ]
  },
  {
   "cell_type": "markdown",
   "id": "b2357bd3",
   "metadata": {},
   "source": [
    "In this notebook, We will discuss about various Data Science Tools and their Ecosystems."
   ]
  },
  {
   "cell_type": "markdown",
   "id": "8b74d50f",
   "metadata": {},
   "source": [
    "**Objectives**\n",
    "* Poular languages used in Data Science\n",
    "* Libraries use in Data Science\n",
    "* Data Science tools"
   ]
  },
  {
   "cell_type": "markdown",
   "id": "ddfbb271",
   "metadata": {},
   "source": [
    "In todays world, some of the most popular languages that a Data Scientist use are,\n",
    "1. Pyhton\n",
    "1. R\n",
    "1. SQL\n",
    "1. Julia\n"
   ]
  },
  {
   "cell_type": "markdown",
   "id": "e8cffdc8",
   "metadata": {},
   "source": [
    "Some of the commonly used libraries used by Data Scientists include:\n",
    "1. TensorFlow\n",
    "1. PyTorch\n",
    "1. Keras\n",
    "1. Pandas"
   ]
  },
  {
   "cell_type": "markdown",
   "id": "d0c5e5dc",
   "metadata": {},
   "source": [
    "|Data Science tools|\n",
    "|----|\n",
    "|Hadoop|\n",
    "|Knime|\n",
    "|Weka|\n"
   ]
  },
  {
   "cell_type": "markdown",
   "id": "8cafdc2e",
   "metadata": {},
   "source": [
    "### Below are a few examples of evaluating arithmetic expressions in Python,\n",
    "1+3 \n",
    "\n",
    "2-7\n"
   ]
  },
  {
   "cell_type": "markdown",
   "id": "cc49142c",
   "metadata": {},
   "source": [
    "This a simple arithmetic expression to mutiply then add integers,"
   ]
  },
  {
   "cell_type": "code",
   "execution_count": 2,
   "id": "46d6ab9a",
   "metadata": {},
   "outputs": [
    {
     "data": {
      "text/plain": [
       "17"
      ]
     },
     "execution_count": 2,
     "metadata": {},
     "output_type": "execute_result"
    }
   ],
   "source": [
    "(3*4)+5"
   ]
  },
  {
   "cell_type": "markdown",
   "id": "7eace9b8",
   "metadata": {},
   "source": [
    "This will convert 200 minutes to hours by diving by 60,"
   ]
  },
  {
   "cell_type": "code",
   "execution_count": 4,
   "id": "aaa32c1b",
   "metadata": {},
   "outputs": [
    {
     "data": {
      "text/plain": [
       "3.3333333333333335"
      ]
     },
     "execution_count": 4,
     "metadata": {},
     "output_type": "execute_result"
    }
   ],
   "source": [
    "x=60\n",
    "200/x"
   ]
  },
  {
   "cell_type": "markdown",
   "id": "c72b6d23",
   "metadata": {},
   "source": [
    "## Author\n",
    "Mutasim Mahmud"
   ]
  },
  {
   "cell_type": "code",
   "execution_count": null,
   "id": "c9feb05b",
   "metadata": {},
   "outputs": [],
   "source": []
  }
 ],
 "metadata": {
  "kernelspec": {
   "display_name": "Python 3 (ipykernel)",
   "language": "python",
   "name": "python3"
  },
  "language_info": {
   "codemirror_mode": {
    "name": "ipython",
    "version": 3
   },
   "file_extension": ".py",
   "mimetype": "text/x-python",
   "name": "python",
   "nbconvert_exporter": "python",
   "pygments_lexer": "ipython3",
   "version": "3.9.13"
  }
 },
 "nbformat": 4,
 "nbformat_minor": 5
}
